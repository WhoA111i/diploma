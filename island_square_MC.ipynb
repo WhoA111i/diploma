{
 "cells": [
  {
   "cell_type": "code",
   "execution_count": 84,
   "id": "af8d2a89",
   "metadata": {},
   "outputs": [],
   "source": [
    "import numpy as np\n",
    "import pandas as pd"
   ]
  },
  {
   "cell_type": "code",
   "execution_count": 85,
   "id": "ba9be0f1",
   "metadata": {},
   "outputs": [],
   "source": [
    "from PIL import Image"
   ]
  },
  {
   "attachments": {
    "island.jpg": {
     "image/jpeg": "[encoded data removed]"
    }
   },
   "cell_type": "markdown",
   "id": "0addf108",
   "metadata": {},
   "source": [
    "![island.jpg](attachment:island.jpg)"
   ]
  },
  {
   "cell_type": "code",
   "execution_count": 86,
   "id": "fd45efe3",
   "metadata": {},
   "outputs": [],
   "source": [
    "#Считаем картинку и положим значения rgb пикселей в массив numpy\n",
    "img = Image.open('island.jpg')\n",
    "arr = np.asarray(img, dtype='uint8')"
   ]
  },
  {
   "cell_type": "code",
   "execution_count": 87,
   "id": "9f380cf7",
   "metadata": {},
   "outputs": [
    {
     "data": {
      "text/plain": [
       "array([181, 205, 255], dtype=uint8)"
      ]
     },
     "execution_count": 87,
     "metadata": {},
     "output_type": "execute_result"
    }
   ],
   "source": [
    "arr[0][0]"
   ]
  },
  {
   "cell_type": "code",
   "execution_count": 88,
   "id": "c00f3cef",
   "metadata": {},
   "outputs": [
    {
     "data": {
      "text/plain": [
       "(309, 163)"
      ]
     },
     "execution_count": 88,
     "metadata": {},
     "output_type": "execute_result"
    }
   ],
   "source": [
    "# Получили массив размером 309*163 каждый элемент которого является массивом из трех значений RGB\n",
    "img.size"
   ]
  },
  {
   "cell_type": "code",
   "execution_count": 89,
   "id": "9fde7e55",
   "metadata": {},
   "outputs": [],
   "source": [
    "# Считаем значения пикселей в список\n",
    "pixels = []\n",
    "for i in range(img.size[1]):\n",
    "    for j in range(img.size[0]):\n",
    "        pixels.append(arr[i][j])"
   ]
  },
  {
   "cell_type": "code",
   "execution_count": 90,
   "id": "9859f981",
   "metadata": {},
   "outputs": [
    {
     "data": {
      "text/plain": [
       "[array([181, 205, 255], dtype=uint8),\n",
       " array([ 99, 123, 183], dtype=uint8),\n",
       " array([114, 138, 202], dtype=uint8),\n",
       " array([115, 138, 205], dtype=uint8),\n",
       " array([105, 129, 199], dtype=uint8),\n",
       " array([107, 131, 205], dtype=uint8),\n",
       " array([111, 134, 212], dtype=uint8),\n",
       " array([108, 131, 211], dtype=uint8),\n",
       " array([110, 135, 217], dtype=uint8),\n",
       " array([110, 135, 217], dtype=uint8)]"
      ]
     },
     "execution_count": 90,
     "metadata": {},
     "output_type": "execute_result"
    }
   ],
   "source": [
    "pixels[:10]"
   ]
  },
  {
   "cell_type": "code",
   "execution_count": 91,
   "id": "c53527c3",
   "metadata": {},
   "outputs": [],
   "source": [
    "pixels = [arr.astype(\"int16\") for arr in pixels]"
   ]
  },
  {
   "cell_type": "code",
   "execution_count": 92,
   "id": "b5f79eb0",
   "metadata": {},
   "outputs": [
    {
     "data": {
      "text/html": [
       "<div>\n",
       "<style scoped>\n",
       "    .dataframe tbody tr th:only-of-type {\n",
       "        vertical-align: middle;\n",
       "    }\n",
       "\n",
       "    .dataframe tbody tr th {\n",
       "        vertical-align: top;\n",
       "    }\n",
       "\n",
       "    .dataframe thead th {\n",
       "        text-align: right;\n",
       "    }\n",
       "</style>\n",
       "<table border=\"1\" class=\"dataframe\">\n",
       "  <thead>\n",
       "    <tr style=\"text-align: right;\">\n",
       "      <th></th>\n",
       "      <th>red</th>\n",
       "      <th>green</th>\n",
       "      <th>blue</th>\n",
       "    </tr>\n",
       "  </thead>\n",
       "  <tbody>\n",
       "    <tr>\n",
       "      <th>0</th>\n",
       "      <td>181</td>\n",
       "      <td>205</td>\n",
       "      <td>255</td>\n",
       "    </tr>\n",
       "    <tr>\n",
       "      <th>1</th>\n",
       "      <td>99</td>\n",
       "      <td>123</td>\n",
       "      <td>183</td>\n",
       "    </tr>\n",
       "    <tr>\n",
       "      <th>2</th>\n",
       "      <td>114</td>\n",
       "      <td>138</td>\n",
       "      <td>202</td>\n",
       "    </tr>\n",
       "    <tr>\n",
       "      <th>3</th>\n",
       "      <td>115</td>\n",
       "      <td>138</td>\n",
       "      <td>205</td>\n",
       "    </tr>\n",
       "    <tr>\n",
       "      <th>4</th>\n",
       "      <td>105</td>\n",
       "      <td>129</td>\n",
       "      <td>199</td>\n",
       "    </tr>\n",
       "    <tr>\n",
       "      <th>...</th>\n",
       "      <td>...</td>\n",
       "      <td>...</td>\n",
       "      <td>...</td>\n",
       "    </tr>\n",
       "    <tr>\n",
       "      <th>50362</th>\n",
       "      <td>103</td>\n",
       "      <td>161</td>\n",
       "      <td>211</td>\n",
       "    </tr>\n",
       "    <tr>\n",
       "      <th>50363</th>\n",
       "      <td>102</td>\n",
       "      <td>156</td>\n",
       "      <td>200</td>\n",
       "    </tr>\n",
       "    <tr>\n",
       "      <th>50364</th>\n",
       "      <td>101</td>\n",
       "      <td>152</td>\n",
       "      <td>197</td>\n",
       "    </tr>\n",
       "    <tr>\n",
       "      <th>50365</th>\n",
       "      <td>94</td>\n",
       "      <td>146</td>\n",
       "      <td>186</td>\n",
       "    </tr>\n",
       "    <tr>\n",
       "      <th>50366</th>\n",
       "      <td>161</td>\n",
       "      <td>208</td>\n",
       "      <td>250</td>\n",
       "    </tr>\n",
       "  </tbody>\n",
       "</table>\n",
       "<p>50367 rows × 3 columns</p>\n",
       "</div>"
      ],
      "text/plain": [
       "       red  green  blue\n",
       "0      181    205   255\n",
       "1       99    123   183\n",
       "2      114    138   202\n",
       "3      115    138   205\n",
       "4      105    129   199\n",
       "...    ...    ...   ...\n",
       "50362  103    161   211\n",
       "50363  102    156   200\n",
       "50364  101    152   197\n",
       "50365   94    146   186\n",
       "50366  161    208   250\n",
       "\n",
       "[50367 rows x 3 columns]"
      ]
     },
     "execution_count": 92,
     "metadata": {},
     "output_type": "execute_result"
    }
   ],
   "source": [
    "# Преобразуем список в DataFrame для дальнейшей удобной работы с данными\n",
    "# Длина df должна получиться 309*163, где каждая строка данных представляет собой значение цветов RGB\n",
    "df = pd.DataFrame(data = pixels, columns = ['red', 'green', 'blue'])\n",
    "df\n"
   ]
  },
  {
   "attachments": {
    "Screenshot_1.png": {
     "image/png": "[encoded data removed]"
    }
   },
   "cell_type": "markdown",
   "id": "ef81de96",
   "metadata": {},
   "source": [
    "![Screenshot_1.png](attachment:Screenshot_1.png)"
   ]
  },
  {
   "cell_type": "markdown",
   "id": "ec1bf1f8",
   "metadata": {},
   "source": [
    "Посмотрев на таблицу цветов, замечаем, что оттенок цвета определяется максимальным значением его RGB модели. Т.е. условно если значения нашего пикселя составляют red=105 green=129 и blue=199, то мы имеем какой-то оттенок синего"
   ]
  },
  {
   "cell_type": "code",
   "execution_count": 93,
   "id": "bfcaa40c",
   "metadata": {},
   "outputs": [
    {
     "data": {
      "text/html": [
       "<div>\n",
       "<style scoped>\n",
       "    .dataframe tbody tr th:only-of-type {\n",
       "        vertical-align: middle;\n",
       "    }\n",
       "\n",
       "    .dataframe tbody tr th {\n",
       "        vertical-align: top;\n",
       "    }\n",
       "\n",
       "    .dataframe thead th {\n",
       "        text-align: right;\n",
       "    }\n",
       "</style>\n",
       "<table border=\"1\" class=\"dataframe\">\n",
       "  <thead>\n",
       "    <tr style=\"text-align: right;\">\n",
       "      <th></th>\n",
       "      <th>red</th>\n",
       "      <th>green</th>\n",
       "      <th>blue</th>\n",
       "      <th>dominant_color</th>\n",
       "    </tr>\n",
       "  </thead>\n",
       "  <tbody>\n",
       "    <tr>\n",
       "      <th>0</th>\n",
       "      <td>181</td>\n",
       "      <td>205</td>\n",
       "      <td>255</td>\n",
       "      <td>blue</td>\n",
       "    </tr>\n",
       "    <tr>\n",
       "      <th>1</th>\n",
       "      <td>99</td>\n",
       "      <td>123</td>\n",
       "      <td>183</td>\n",
       "      <td>blue</td>\n",
       "    </tr>\n",
       "    <tr>\n",
       "      <th>2</th>\n",
       "      <td>114</td>\n",
       "      <td>138</td>\n",
       "      <td>202</td>\n",
       "      <td>blue</td>\n",
       "    </tr>\n",
       "    <tr>\n",
       "      <th>3</th>\n",
       "      <td>115</td>\n",
       "      <td>138</td>\n",
       "      <td>205</td>\n",
       "      <td>blue</td>\n",
       "    </tr>\n",
       "    <tr>\n",
       "      <th>4</th>\n",
       "      <td>105</td>\n",
       "      <td>129</td>\n",
       "      <td>199</td>\n",
       "      <td>blue</td>\n",
       "    </tr>\n",
       "  </tbody>\n",
       "</table>\n",
       "</div>"
      ],
      "text/plain": [
       "   red  green  blue dominant_color\n",
       "0  181    205   255           blue\n",
       "1   99    123   183           blue\n",
       "2  114    138   202           blue\n",
       "3  115    138   205           blue\n",
       "4  105    129   199           blue"
      ]
     },
     "execution_count": 93,
     "metadata": {},
     "output_type": "execute_result"
    }
   ],
   "source": [
    "# Определим максимальные значения в каждой из строк и запишем в новый столбец\n",
    "df['dominant_color'] = df.idxmax(axis = 1)\n",
    "df.head()"
   ]
  },
  {
   "cell_type": "code",
   "execution_count": 94,
   "id": "45eb3e58",
   "metadata": {},
   "outputs": [
    {
     "data": {
      "text/plain": [
       "blue     39341\n",
       "green    10968\n",
       "red         58\n",
       "Name: dominant_color, dtype: int64"
      ]
     },
     "execution_count": 94,
     "metadata": {},
     "output_type": "execute_result"
    }
   ],
   "source": [
    "# Видим что наша картинка довольно контрастная\n",
    "df['dominant_color'].value_counts()"
   ]
  },
  {
   "cell_type": "code",
   "execution_count": 95,
   "id": "7e84f67e",
   "metadata": {},
   "outputs": [
    {
     "data": {
      "text/plain": [
       "0.27838270006852966"
      ]
     },
     "execution_count": 95,
     "metadata": {},
     "output_type": "execute_result"
    }
   ],
   "source": [
    "#Попробуем рассчитать площадь разделив количество зеленых пикселей на все остальные\n",
    "df['dominant_color'].value_counts()['green']/(df['dominant_color'].value_counts()['red']+\n",
    "                                            df['dominant_color'].value_counts()['blue'])"
   ]
  },
  {
   "cell_type": "code",
   "execution_count": 96,
   "id": "9f312f5d",
   "metadata": {},
   "outputs": [
    {
     "data": {
      "text/plain": [
       "14021"
      ]
     },
     "execution_count": 96,
     "metadata": {},
     "output_type": "execute_result"
    }
   ],
   "source": [
    "# Получили значение в 0,28 от всей картинки. Умножим на общее число пикселей(309*163)\n",
    "round(0.27838270006852966*309*163)"
   ]
  },
  {
   "cell_type": "markdown",
   "id": "d9d057bc",
   "metadata": {},
   "source": [
    "14021 пикселей составляет площадь нашего острова. Для точных значений в километрах нам нужны реальные масштабы картинки.\n",
    "Попробуем оценить площадь острова в пикселях с помощью симмуляций."
   ]
  },
  {
   "cell_type": "code",
   "execution_count": 97,
   "id": "a452c4b1",
   "metadata": {},
   "outputs": [],
   "source": [
    "from tqdm.notebook import tqdm"
   ]
  },
  {
   "cell_type": "code",
   "execution_count": 99,
   "id": "7c2e0842",
   "metadata": {},
   "outputs": [
    {
     "data": {
      "application/vnd.jupyter.widget-view+json": {
       "model_id": "db51db7dc14f4e339a12258c9364ce0f",
       "version_major": 2,
       "version_minor": 0
      },
      "text/plain": [
       "  0%|          | 0/9 [00:00<?, ?it/s]"
      ]
     },
     "metadata": {},
     "output_type": "display_data"
    }
   ],
   "source": [
    "sample_size = [30, 100, 500, 1000, 5000, 10000, 50000, 100000, 1000000]\n",
    "result = []\n",
    "\n",
    "for n in tqdm(sample_size):\n",
    "    simmulation = df['dominant_color'].sample(n , replace = True).value_counts()\n",
    "    result.append(simmulation['green']/(simmulation.sum() - simmulation['green']))\n",
    "    "
   ]
  },
  {
   "cell_type": "code",
   "execution_count": 100,
   "id": "4aee6340",
   "metadata": {},
   "outputs": [
    {
     "data": {
      "text/plain": [
       "[0.36363636363636365,\n",
       " 0.3157894736842105,\n",
       " 0.24378109452736318,\n",
       " 0.28205128205128205,\n",
       " 0.26646403242147926,\n",
       " 0.2729124236252546,\n",
       " 0.2800491538875093,\n",
       " 0.2755102040816326,\n",
       " 0.27816761890154273]"
      ]
     },
     "execution_count": 100,
     "metadata": {},
     "output_type": "execute_result"
    }
   ],
   "source": [
    "result"
   ]
  },
  {
   "cell_type": "code",
   "execution_count": 101,
   "id": "bb581ae7",
   "metadata": {},
   "outputs": [
    {
     "data": {
      "text/plain": [
       "[18315, 15905, 12279, 14206, 13421, 13746, 14105, 13877, 14010]"
      ]
     },
     "execution_count": 101,
     "metadata": {},
     "output_type": "execute_result"
    }
   ],
   "source": [
    "[round(item * 50367) for item in result]"
   ]
  },
  {
   "cell_type": "code",
   "execution_count": 103,
   "id": "db355c81",
   "metadata": {},
   "outputs": [],
   "source": [
    "df_simmulation = pd.Series(sample_size).to_frame().rename(columns = {0: 'sample_size'})\n",
    "df_simmulation['square'] = pd.Series(result).values"
   ]
  },
  {
   "cell_type": "code",
   "execution_count": 104,
   "id": "97088cd3",
   "metadata": {},
   "outputs": [
    {
     "data": {
      "text/html": [
       "<div>\n",
       "<style scoped>\n",
       "    .dataframe tbody tr th:only-of-type {\n",
       "        vertical-align: middle;\n",
       "    }\n",
       "\n",
       "    .dataframe tbody tr th {\n",
       "        vertical-align: top;\n",
       "    }\n",
       "\n",
       "    .dataframe thead th {\n",
       "        text-align: right;\n",
       "    }\n",
       "</style>\n",
       "<table border=\"1\" class=\"dataframe\">\n",
       "  <thead>\n",
       "    <tr style=\"text-align: right;\">\n",
       "      <th></th>\n",
       "      <th>sample_size</th>\n",
       "      <th>square</th>\n",
       "    </tr>\n",
       "  </thead>\n",
       "  <tbody>\n",
       "    <tr>\n",
       "      <th>0</th>\n",
       "      <td>30</td>\n",
       "      <td>0.363636</td>\n",
       "    </tr>\n",
       "    <tr>\n",
       "      <th>1</th>\n",
       "      <td>100</td>\n",
       "      <td>0.315789</td>\n",
       "    </tr>\n",
       "    <tr>\n",
       "      <th>2</th>\n",
       "      <td>500</td>\n",
       "      <td>0.243781</td>\n",
       "    </tr>\n",
       "    <tr>\n",
       "      <th>3</th>\n",
       "      <td>1000</td>\n",
       "      <td>0.282051</td>\n",
       "    </tr>\n",
       "    <tr>\n",
       "      <th>4</th>\n",
       "      <td>5000</td>\n",
       "      <td>0.266464</td>\n",
       "    </tr>\n",
       "    <tr>\n",
       "      <th>5</th>\n",
       "      <td>10000</td>\n",
       "      <td>0.272912</td>\n",
       "    </tr>\n",
       "    <tr>\n",
       "      <th>6</th>\n",
       "      <td>50000</td>\n",
       "      <td>0.280049</td>\n",
       "    </tr>\n",
       "    <tr>\n",
       "      <th>7</th>\n",
       "      <td>100000</td>\n",
       "      <td>0.275510</td>\n",
       "    </tr>\n",
       "    <tr>\n",
       "      <th>8</th>\n",
       "      <td>1000000</td>\n",
       "      <td>0.278168</td>\n",
       "    </tr>\n",
       "  </tbody>\n",
       "</table>\n",
       "</div>"
      ],
      "text/plain": [
       "   sample_size    square\n",
       "0           30  0.363636\n",
       "1          100  0.315789\n",
       "2          500  0.243781\n",
       "3         1000  0.282051\n",
       "4         5000  0.266464\n",
       "5        10000  0.272912\n",
       "6        50000  0.280049\n",
       "7       100000  0.275510\n",
       "8      1000000  0.278168"
      ]
     },
     "execution_count": 104,
     "metadata": {},
     "output_type": "execute_result"
    }
   ],
   "source": [
    "df_simmulation"
   ]
  },
  {
   "cell_type": "markdown",
   "id": "41c9fec6",
   "metadata": {},
   "source": [
    "Выше мы посчитали площадь острова с разными подвыборками начиная от 30 до 1млн\n",
    "Так как подвыборку мы брали всего по одному разу для каждого размера подвыборки, то на малых значениях\n",
    "результаты варьируются от запуска к запуску, попробуем ссимулировать несколько подвыборок одинакого размера и взять среднее"
   ]
  },
  {
   "cell_type": "code",
   "execution_count": 111,
   "id": "3d01e449",
   "metadata": {},
   "outputs": [
    {
     "data": {
      "application/vnd.jupyter.widget-view+json": {
       "model_id": "7d321a262d4941c2ac85edf8125176db",
       "version_major": 2,
       "version_minor": 0
      },
      "text/plain": [
       "  0%|          | 0/9 [00:00<?, ?it/s]"
      ]
     },
     "metadata": {},
     "output_type": "display_data"
    }
   ],
   "source": [
    "sample_size = [30, 100, 500, 1000, 5000, 10000, 50000, 100000, 1000000]\n",
    "mean_square = []\n",
    "\n",
    "for n in tqdm(sample_size):\n",
    "    tmp_squares = []\n",
    "    simmulation = [df['dominant_color'].sample(n , replace = True).value_counts() for _ in range(3)]\n",
    "    tmp_squares.append([value['green']/(value.sum() - value['green']) for value in simmulation])\n",
    "    mean_square.append(np.mean(tmp_squares))"
   ]
  },
  {
   "cell_type": "code",
   "execution_count": 112,
   "id": "b233e50e",
   "metadata": {},
   "outputs": [
    {
     "data": {
      "text/plain": [
       "[0.35454545454545455,\n",
       " 0.2612049197415051,\n",
       " 0.29986382878139844,\n",
       " 0.28807867283348904,\n",
       " 0.2834072708859156,\n",
       " 0.27569026444646894,\n",
       " 0.2790153765615253,\n",
       " 0.27948705530012696,\n",
       " 0.2784793335621107]"
      ]
     },
     "execution_count": 112,
     "metadata": {},
     "output_type": "execute_result"
    }
   ],
   "source": [
    "mean_square"
   ]
  },
  {
   "cell_type": "markdown",
   "id": "9f1be007",
   "metadata": {},
   "source": [
    "Теперь наши значения площади не такие волатильные и при увелечении количества подвыборок мы можем получить довольно точный результат даже при сэмплировании в размере 30 значений"
   ]
  },
  {
   "cell_type": "code",
   "execution_count": 113,
   "id": "a4d3a582",
   "metadata": {},
   "outputs": [
    {
     "data": {
      "application/vnd.jupyter.widget-view+json": {
       "model_id": "d7e16c40e0eb42ac9f1c3f6db907f678",
       "version_major": 2,
       "version_minor": 0
      },
      "text/plain": [
       "  0%|          | 0/9 [00:00<?, ?it/s]"
      ]
     },
     "metadata": {},
     "output_type": "display_data"
    }
   ],
   "source": [
    "sample_size = [30, 100, 500, 1000, 5000, 10000, 50000, 100000, 1000000]\n",
    "mean_square = []\n",
    "\n",
    "for n in tqdm(sample_size):\n",
    "    tmp_squares = []\n",
    "    simmulation = [df['dominant_color'].sample(n , replace = True).value_counts() for _ in range(10)]\n",
    "    tmp_squares.append([value['green']/(value.sum() - value['green']) for value in simmulation])\n",
    "    mean_square.append(np.mean(tmp_squares))"
   ]
  },
  {
   "cell_type": "code",
   "execution_count": 114,
   "id": "ce8369cf",
   "metadata": {},
   "outputs": [
    {
     "data": {
      "text/plain": [
       "[0.2615590930808322,\n",
       " 0.2786519842862862,\n",
       " 0.28566937053632124,\n",
       " 0.28124461537928525,\n",
       " 0.2794518247361713,\n",
       " 0.27871601377724964,\n",
       " 0.2798067872868025,\n",
       " 0.27809712710656553,\n",
       " 0.278166058042445]"
      ]
     },
     "execution_count": 114,
     "metadata": {},
     "output_type": "execute_result"
    }
   ],
   "source": [
    "mean_square"
   ]
  },
  {
   "cell_type": "code",
   "execution_count": null,
   "id": "e3fa4c9d",
   "metadata": {},
   "outputs": [],
   "source": []
  }
 ],
 "metadata": {
  "kernelspec": {
   "display_name": "Python 3 (ipykernel)",
   "language": "python",
   "name": "python3"
  },
  "language_info": {
   "codemirror_mode": {
    "name": "ipython",
    "version": 3
   },
   "file_extension": ".py",
   "mimetype": "text/x-python",
   "name": "python",
   "nbconvert_exporter": "python",
   "pygments_lexer": "ipython3",
   "version": "3.10.1"
  }
 },
 "nbformat": 4,
 "nbformat_minor": 5
}
