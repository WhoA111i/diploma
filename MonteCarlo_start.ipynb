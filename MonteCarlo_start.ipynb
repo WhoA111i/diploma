{
 "cells": [
  {
   "cell_type": "code",
   "execution_count": 1,
   "id": "813d0e07",
   "metadata": {},
   "outputs": [],
   "source": [
    "import numpy as np\n",
    "import pandas as pd\n",
    "from tqdm.notebook import tqdm\n",
    "\n",
    "import matplotlib.pyplot as plt\n",
    "plt.style.use('dark_background')"
   ]
  },
  {
   "cell_type": "code",
   "execution_count": 2,
   "id": "3903ddb9",
   "metadata": {},
   "outputs": [],
   "source": [
    "# Для расчета погрешности по умолчанию используем уровень значимости 95%\n",
    "def MonteCarlo_cos(n, list_x, list_y):\n",
    "    result = []\n",
    "    error = []\n",
    "    for _ in range(n):\n",
    "        x = np.random.uniform(list_x[0], list_x[1], 1)\n",
    "        y = np.random.uniform(list_y[0], list_y[1], 1)\n",
    "        error.append(y)\n",
    "        if y < np.cos(x):\n",
    "            result.append(1)\n",
    "        else:\n",
    "            result.append(0)\n",
    "    return np.mean(result) * np.pi, np.std(error)/np.sqrt(n)*1.96"
   ]
  },
  {
   "cell_type": "code",
   "execution_count": 3,
   "id": "8a2a7424",
   "metadata": {},
   "outputs": [
    {
     "name": "stdout",
     "output_type": "stream",
     "text": [
      "площадь фигуры : 2.0326104468725963\n",
      "погрешность при 1000 итерациях составляет 1.77%\n"
     ]
    }
   ],
   "source": [
    "result, error= MonteCarlo_cos(1000, [-(np.pi/2), np.pi/2], [0, 1])\n",
    "print(f'площадь фигуры : {result}')\n",
    "print(f'погрешность при {1000} итерациях составляет {round(error*100,2)}%')"
   ]
  },
  {
   "cell_type": "code",
   "execution_count": 4,
   "id": "a1be2d63",
   "metadata": {},
   "outputs": [
    {
     "data": {
      "text/plain": [
       "(2.0137608909510574, 0.017799017062998176)"
      ]
     },
     "execution_count": 4,
     "metadata": {},
     "output_type": "execute_result"
    }
   ],
   "source": [
    "MonteCarlo_cos(1000, [-(np.pi/2), np.pi/2], [0, 1])"
   ]
  },
  {
   "cell_type": "code",
   "execution_count": 5,
   "id": "092143c3",
   "metadata": {},
   "outputs": [
    {
     "data": {
      "application/vnd.jupyter.widget-view+json": {
       "model_id": "bf8b33b1e2e140a89448b8fe71fc23a2",
       "version_major": 2,
       "version_minor": 0
      },
      "text/plain": [
       "  0%|          | 0/8 [00:00<?, ?it/s]"
      ]
     },
     "metadata": {},
     "output_type": "display_data"
    },
    {
     "data": {
      "text/plain": [
       "[2.3038346126325147,\n",
       " 1.9477874452256718,\n",
       " 1.9540706305328512,\n",
       " 2.0074777056438777,\n",
       " 1.9842299200073135,\n",
       " 2.008420183439955,\n",
       " 2.0063467322885855,\n",
       " 2.000346290320229]"
      ]
     },
     "execution_count": 5,
     "metadata": {},
     "output_type": "execute_result"
    }
   ],
   "source": [
    "sizes = [30, 100, 500, 1000, 5000, 10000, 50000, 100000]\n",
    "result = []\n",
    "error = []\n",
    "for n in tqdm((sizes)):\n",
    "    result.append(MonteCarlo_cos(n, [-(np.pi/2), np.pi/2], [0, 1])[0])\n",
    "    error.append(MonteCarlo_cos(n, [-(np.pi/2), np.pi/2], [0, 1])[1])\n",
    "result"
   ]
  },
  {
   "cell_type": "code",
   "execution_count": 6,
   "id": "fee2b896",
   "metadata": {},
   "outputs": [
    {
     "data": {
      "text/html": [
       "<div>\n",
       "<style scoped>\n",
       "    .dataframe tbody tr th:only-of-type {\n",
       "        vertical-align: middle;\n",
       "    }\n",
       "\n",
       "    .dataframe tbody tr th {\n",
       "        vertical-align: top;\n",
       "    }\n",
       "\n",
       "    .dataframe thead th {\n",
       "        text-align: right;\n",
       "    }\n",
       "</style>\n",
       "<table border=\"1\" class=\"dataframe\">\n",
       "  <thead>\n",
       "    <tr style=\"text-align: right;\">\n",
       "      <th></th>\n",
       "      <th>iters</th>\n",
       "      <th>value</th>\n",
       "      <th>error</th>\n",
       "    </tr>\n",
       "  </thead>\n",
       "  <tbody>\n",
       "    <tr>\n",
       "      <th>0</th>\n",
       "      <td>30</td>\n",
       "      <td>2.303835</td>\n",
       "      <td>0.100802</td>\n",
       "    </tr>\n",
       "    <tr>\n",
       "      <th>1</th>\n",
       "      <td>100</td>\n",
       "      <td>1.947787</td>\n",
       "      <td>0.056813</td>\n",
       "    </tr>\n",
       "    <tr>\n",
       "      <th>2</th>\n",
       "      <td>500</td>\n",
       "      <td>1.954071</td>\n",
       "      <td>0.025547</td>\n",
       "    </tr>\n",
       "    <tr>\n",
       "      <th>3</th>\n",
       "      <td>1000</td>\n",
       "      <td>2.007478</td>\n",
       "      <td>0.017433</td>\n",
       "    </tr>\n",
       "    <tr>\n",
       "      <th>4</th>\n",
       "      <td>5000</td>\n",
       "      <td>1.984230</td>\n",
       "      <td>0.008044</td>\n",
       "    </tr>\n",
       "    <tr>\n",
       "      <th>5</th>\n",
       "      <td>10000</td>\n",
       "      <td>2.008420</td>\n",
       "      <td>0.005679</td>\n",
       "    </tr>\n",
       "    <tr>\n",
       "      <th>6</th>\n",
       "      <td>50000</td>\n",
       "      <td>2.006347</td>\n",
       "      <td>0.002536</td>\n",
       "    </tr>\n",
       "    <tr>\n",
       "      <th>7</th>\n",
       "      <td>100000</td>\n",
       "      <td>2.000346</td>\n",
       "      <td>0.001790</td>\n",
       "    </tr>\n",
       "  </tbody>\n",
       "</table>\n",
       "</div>"
      ],
      "text/plain": [
       "    iters     value     error\n",
       "0      30  2.303835  0.100802\n",
       "1     100  1.947787  0.056813\n",
       "2     500  1.954071  0.025547\n",
       "3    1000  2.007478  0.017433\n",
       "4    5000  1.984230  0.008044\n",
       "5   10000  2.008420  0.005679\n",
       "6   50000  2.006347  0.002536\n",
       "7  100000  2.000346  0.001790"
      ]
     },
     "execution_count": 6,
     "metadata": {},
     "output_type": "execute_result"
    }
   ],
   "source": [
    "df_cos = pd.Series(sizes).to_frame().rename(columns = { 0 :'iters'})\n",
    "df_cos['value'] = pd.Series(result).values\n",
    "df_cos['error'] = pd.Series(error).values\n",
    "df_cos"
   ]
  },
  {
   "cell_type": "code",
   "execution_count": 7,
   "id": "b3e67bd2",
   "metadata": {},
   "outputs": [
    {
     "data": {
      "text/plain": [
       "<AxesSubplot:xlabel='iters'>"
      ]
     },
     "execution_count": 7,
     "metadata": {},
     "output_type": "execute_result"
    },
    {
     "data": {
      "image/png": "[encoded data removed]",
      "text/plain": [
       "<Figure size 432x288 with 1 Axes>"
      ]
     },
     "metadata": {},
     "output_type": "display_data"
    }
   ],
   "source": [
    "df_cos.set_index('iters')['value'].plot()"
   ]
  },
  {
   "cell_type": "code",
   "execution_count": 8,
   "id": "1e4ad483",
   "metadata": {},
   "outputs": [
    {
     "data": {
      "text/plain": [
       "<AxesSubplot:xlabel='iters'>"
      ]
     },
     "execution_count": 8,
     "metadata": {},
     "output_type": "execute_result"
    },
    {
     "data": {
      "image/png": "[encoded data removed]",
      "text/plain": [
       "<Figure size 432x288 with 1 Axes>"
      ]
     },
     "metadata": {},
     "output_type": "display_data"
    }
   ],
   "source": [
    "df_cos.set_index('iters')['error'].plot()"
   ]
  },
  {
   "cell_type": "code",
   "execution_count": null,
   "id": "e40bc2c9",
   "metadata": {},
   "outputs": [],
   "source": []
  }
 ],
 "metadata": {
  "kernelspec": {
   "display_name": "Python 3 (ipykernel)",
   "language": "python",
   "name": "python3"
  },
  "language_info": {
   "codemirror_mode": {
    "name": "ipython",
    "version": 3
   },
   "file_extension": ".py",
   "mimetype": "text/x-python",
   "name": "python",
   "nbconvert_exporter": "python",
   "pygments_lexer": "ipython3",
   "version": "3.10.1"
  }
 },
 "nbformat": 4,
 "nbformat_minor": 5
}
